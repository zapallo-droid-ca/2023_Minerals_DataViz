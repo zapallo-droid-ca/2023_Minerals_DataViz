{
 "cells": [
  {
   "cell_type": "markdown",
   "metadata": {},
   "source": [
    "## **MINERALS OF ENERGY TRANSITION** \n",
    "\n",
    "**EXTRACTION, TRANSFORMATION, LOAD (ETL)**"
   ]
  },
  {
   "cell_type": "markdown",
   "metadata": {},
   "source": [
    "**DISCLAIMER:** <br>\n",
    "*The data used for analyzing the market was obtained from open sources, the information and insights in the present document can't be used with commercial purposes keeping each data source with their original licences.*"
   ]
  },
  {
   "cell_type": "markdown",
   "metadata": {},
   "source": [
    "**SUMMARY:** <br>\n",
    "TBD\n",
    "\n",
    "**OBJECTIVE:** <br>\n",
    "To extract and transform data from the origin considering the production values as main or target variable.\n"
   ]
  },
  {
   "cell_type": "markdown",
   "metadata": {},
   "source": [
    "### 00.00. RESOURCES AND WORK ENVIRONMENT SETTING\n",
    "#### 00.01. LIBRARIES AND WD"
   ]
  },
  {
   "cell_type": "code",
   "execution_count": 1,
   "metadata": {},
   "outputs": [],
   "source": [
    "##-- ENVIRONMENT SETTINGS\n",
    "import pandas as pd\n",
    "import numpy as np\n",
    "import os\n",
    "import json\n",
    "\n",
    "import sqlite3\n",
    "\n",
    "import warnings\n",
    "warnings.filterwarnings('ignore')"
   ]
  },
  {
   "cell_type": "code",
   "execution_count": 2,
   "metadata": {},
   "outputs": [],
   "source": [
    "#-- Custom Libraries\n",
    "main_wd = os.getcwd()[:os.getcwd().find('2023.Minerals-EDA') + len('2023.Minerals-EDA') +1]\n",
    "os.chdir(main_wd)\n",
    "os.chdir([x for x in json.load(open('./config/config.json',))[0]['directory'] if 'wd_custom_libraries' in x][0]['wd_custom_libraries'])    \n",
    "import aux_time_series\n",
    "\n",
    "os.chdir(main_wd)"
   ]
  },
  {
   "cell_type": "code",
   "execution_count": 3,
   "metadata": {},
   "outputs": [],
   "source": [
    "##-- Work Directory  \n",
    "wd_in = [x for x in json.load(open('./config/config.json',))[0]['data'] if 'raw' in x][0]['raw']\n",
    "wd_out = [x for x in json.load(open('./config/config.json',))[0]['data'] if 'processed' in x][0]['processed']\n",
    "csvAttr_imp = json.load(open('./config/config.json',))[0]['csvAttr_imp'][0]\n",
    "csvAttr_exp = json.load(open('./config/config.json',))[0]['csvAttr_exp'][0]"
   ]
  },
  {
   "cell_type": "markdown",
   "metadata": {},
   "source": [
    "#### 00.02 DATA\n",
    "There are two main datasets, The first one contains the production data with its data point of international trade by producer country but both concepts are not equally completed due to coming from different sources.\n",
    "The other dataset contains only the trade but for every single country in the source database. \n",
    "\n",
    "The mineral units of measure have been standardized for trade and production in the [ETL main process]( https://github.com/zapallo-droid-ca/2023.Minerals-ETL) (other project) where petroleum and natural gas are in tonnes of oil equivalent and the rest of minerals in tonnes.\n",
    "\n",
    "The minerals query contains a custom variable with the dimension for what the observation or row can be utilized for, considering that trade only contains values for years after 1986 and production has older values.\n"
   ]
  },
  {
   "cell_type": "code",
   "execution_count": 4,
   "metadata": {},
   "outputs": [],
   "source": [
    "##-- Queries\n",
    "ft_minerals_q = open(main_wd + '/ETL/ft_minerals.sql').read()\n",
    "\n",
    "##-- Connection\n",
    "conn = sqlite3.connect(wd_in + '/minerals_db.db')\n",
    "cursor = conn.cursor()\n",
    "\n",
    "##-- Data\n",
    "#Fact Tables\n",
    "ft_minerals = pd.read_sql(ft_minerals_q, conn)\n",
    "\n",
    "#Aux Data\n",
    "dim_mineral = pd.read_sql('SELECT mineral_code , mineral_desc  FROM dim_mineral dm',conn)\n",
    "\n",
    "#-- Closing Connection\n",
    "conn.close()\n",
    "\n",
    "del(conn, cursor, ft_minerals_q)"
   ]
  },
  {
   "cell_type": "markdown",
   "metadata": {},
   "source": [
    "The main sources only have values for production or trade in those years where transactions were made, to work with time series and to get the statistical measures and values, the queries extracted data using a cross-join function between the fact tables and calendar table contained in the Data Warehouse where all the null values where imputed with “0”.\n",
    "\n",
    "During the query process, the calculations of rolling aggregations and ratios were made to delegate the process to SQL.\n"
   ]
  },
  {
   "cell_type": "markdown",
   "metadata": {},
   "source": [
    "### 01.00. TRANSFORMATIONS\n",
    "#### 01.01. Time Series Decomposition\n",
    "\n",
    "\n",
    "\n"
   ]
  },
  {
   "cell_type": "code",
   "execution_count": 5,
   "metadata": {},
   "outputs": [],
   "source": [
    "##-- Parameters\n",
    "target = 'quantity_produced'\n",
    "\n",
    "ft_minerals = ft_minerals.groupby(['mineral_code','year']).agg(target = (target,'sum')).copy().reset_index()\n",
    "\n",
    "#--Indexing DateTime\n",
    "ft_minerals.set_index(pd.to_datetime(ft_minerals['year'], format = '%Y'), inplace = True)\n",
    "\n",
    "#--key for future joins\n",
    "ft_minerals['key'] = ft_minerals['year'].astype(str) + '-' + ft_minerals['mineral_code']\n",
    "#considering that there are non-unique values for the index, the frequency will be settled when is needed.\n",
    "\n",
    "#Saving shape to final control\n",
    "struct_shape = ft_minerals.shape[0]"
   ]
  },
  {
   "cell_type": "code",
   "execution_count": 6,
   "metadata": {},
   "outputs": [
    {
     "data": {
      "text/html": [
       "<div>\n",
       "<style scoped>\n",
       "    .dataframe tbody tr th:only-of-type {\n",
       "        vertical-align: middle;\n",
       "    }\n",
       "\n",
       "    .dataframe tbody tr th {\n",
       "        vertical-align: top;\n",
       "    }\n",
       "\n",
       "    .dataframe thead th {\n",
       "        text-align: right;\n",
       "    }\n",
       "</style>\n",
       "<table border=\"1\" class=\"dataframe\">\n",
       "  <thead>\n",
       "    <tr style=\"text-align: right;\">\n",
       "      <th></th>\n",
       "      <th>mineral_code</th>\n",
       "      <th>year</th>\n",
       "      <th>target</th>\n",
       "      <th>key</th>\n",
       "    </tr>\n",
       "    <tr>\n",
       "      <th>year</th>\n",
       "      <th></th>\n",
       "      <th></th>\n",
       "      <th></th>\n",
       "      <th></th>\n",
       "    </tr>\n",
       "  </thead>\n",
       "  <tbody>\n",
       "    <tr>\n",
       "      <th>2020-01-01</th>\n",
       "      <td>cm02</td>\n",
       "      <td>2020</td>\n",
       "      <td>1.862819e+09</td>\n",
       "      <td>2020-cm02</td>\n",
       "    </tr>\n",
       "    <tr>\n",
       "      <th>2019-01-01</th>\n",
       "      <td>cm02</td>\n",
       "      <td>2019</td>\n",
       "      <td>1.857300e+09</td>\n",
       "      <td>2019-cm02</td>\n",
       "    </tr>\n",
       "  </tbody>\n",
       "</table>\n",
       "</div>"
      ],
      "text/plain": [
       "           mineral_code  year        target        key\n",
       "year                                                  \n",
       "2020-01-01         cm02  2020  1.862819e+09  2020-cm02\n",
       "2019-01-01         cm02  2019  1.857300e+09  2019-cm02"
      ]
     },
     "execution_count": 6,
     "metadata": {},
     "output_type": "execute_result"
    }
   ],
   "source": [
    "##--Taking a look into the target table\n",
    "ft_minerals.sort_values('target', ascending = False).head(2)"
   ]
  },
  {
   "cell_type": "code",
   "execution_count": 7,
   "metadata": {},
   "outputs": [
    {
     "name": "stdout",
     "output_type": "stream",
     "text": [
      "process ended, df_timeSeriesDecomp: (765, 6)\n"
     ]
    },
    {
     "data": {
      "text/html": [
       "<div>\n",
       "<style scoped>\n",
       "    .dataframe tbody tr th:only-of-type {\n",
       "        vertical-align: middle;\n",
       "    }\n",
       "\n",
       "    .dataframe tbody tr th {\n",
       "        vertical-align: top;\n",
       "    }\n",
       "\n",
       "    .dataframe thead th {\n",
       "        text-align: right;\n",
       "    }\n",
       "</style>\n",
       "<table border=\"1\" class=\"dataframe\">\n",
       "  <thead>\n",
       "    <tr style=\"text-align: right;\">\n",
       "      <th></th>\n",
       "      <th>date</th>\n",
       "      <th>mineral_code</th>\n",
       "      <th>level_original</th>\n",
       "      <th>residual</th>\n",
       "      <th>seasonal</th>\n",
       "      <th>trend</th>\n",
       "    </tr>\n",
       "  </thead>\n",
       "  <tbody>\n",
       "    <tr>\n",
       "      <th>0</th>\n",
       "      <td>1970-01-01</td>\n",
       "      <td>cm01</td>\n",
       "      <td>9.645000e+06</td>\n",
       "      <td>0.0</td>\n",
       "      <td>-616996.840567</td>\n",
       "      <td>0.0</td>\n",
       "    </tr>\n",
       "    <tr>\n",
       "      <th>14</th>\n",
       "      <td>1970-01-01</td>\n",
       "      <td>cm15</td>\n",
       "      <td>1.806100e+04</td>\n",
       "      <td>0.0</td>\n",
       "      <td>-774.397859</td>\n",
       "      <td>0.0</td>\n",
       "    </tr>\n",
       "    <tr>\n",
       "      <th>13</th>\n",
       "      <td>1970-01-01</td>\n",
       "      <td>cm14</td>\n",
       "      <td>2.501471e+03</td>\n",
       "      <td>0.0</td>\n",
       "      <td>-27.480806</td>\n",
       "      <td>0.0</td>\n",
       "    </tr>\n",
       "    <tr>\n",
       "      <th>12</th>\n",
       "      <td>1970-01-01</td>\n",
       "      <td>cm13</td>\n",
       "      <td>1.064358e+03</td>\n",
       "      <td>0.0</td>\n",
       "      <td>10.074592</td>\n",
       "      <td>0.0</td>\n",
       "    </tr>\n",
       "    <tr>\n",
       "      <th>11</th>\n",
       "      <td>1970-01-01</td>\n",
       "      <td>cm12</td>\n",
       "      <td>1.374170e+05</td>\n",
       "      <td>0.0</td>\n",
       "      <td>-13903.330150</td>\n",
       "      <td>0.0</td>\n",
       "    </tr>\n",
       "  </tbody>\n",
       "</table>\n",
       "</div>"
      ],
      "text/plain": [
       "         date mineral_code  level_original  residual       seasonal  trend\n",
       "0  1970-01-01         cm01    9.645000e+06       0.0 -616996.840567    0.0\n",
       "14 1970-01-01         cm15    1.806100e+04       0.0    -774.397859    0.0\n",
       "13 1970-01-01         cm14    2.501471e+03       0.0     -27.480806    0.0\n",
       "12 1970-01-01         cm13    1.064358e+03       0.0      10.074592    0.0\n",
       "11 1970-01-01         cm12    1.374170e+05       0.0  -13903.330150    0.0"
      ]
     },
     "execution_count": 7,
     "metadata": {},
     "output_type": "execute_result"
    }
   ],
   "source": [
    "##-- Decomposing the Target Series\n",
    "ft_prod_tsdecomp = aux_time_series.tsDecomposition(data = ft_minerals, index_frequency = 'YS', period = 12, target = 'target', category = 'mineral_code', scale_data = False)\n",
    "ft_prod_tsdecomp.head()"
   ]
  },
  {
   "cell_type": "code",
   "execution_count": 8,
   "metadata": {},
   "outputs": [
    {
     "data": {
      "text/html": [
       "<div>\n",
       "<style scoped>\n",
       "    .dataframe tbody tr th:only-of-type {\n",
       "        vertical-align: middle;\n",
       "    }\n",
       "\n",
       "    .dataframe tbody tr th {\n",
       "        vertical-align: top;\n",
       "    }\n",
       "\n",
       "    .dataframe thead th {\n",
       "        text-align: right;\n",
       "    }\n",
       "</style>\n",
       "<table border=\"1\" class=\"dataframe\">\n",
       "  <thead>\n",
       "    <tr style=\"text-align: right;\">\n",
       "      <th></th>\n",
       "      <th>mineral_code</th>\n",
       "      <th>year</th>\n",
       "      <th>target</th>\n",
       "      <th>key</th>\n",
       "      <th>level_original</th>\n",
       "      <th>residual</th>\n",
       "      <th>seasonal</th>\n",
       "      <th>trend</th>\n",
       "    </tr>\n",
       "  </thead>\n",
       "  <tbody>\n",
       "    <tr>\n",
       "      <th>0</th>\n",
       "      <td>cm01</td>\n",
       "      <td>1970</td>\n",
       "      <td>9645000.0</td>\n",
       "      <td>1970-cm01</td>\n",
       "      <td>9645000.0</td>\n",
       "      <td>0.0</td>\n",
       "      <td>-6.169968e+05</td>\n",
       "      <td>0.0</td>\n",
       "    </tr>\n",
       "    <tr>\n",
       "      <th>1</th>\n",
       "      <td>cm01</td>\n",
       "      <td>1971</td>\n",
       "      <td>10266000.0</td>\n",
       "      <td>1971-cm01</td>\n",
       "      <td>10266000.0</td>\n",
       "      <td>0.0</td>\n",
       "      <td>-5.284295e+05</td>\n",
       "      <td>0.0</td>\n",
       "    </tr>\n",
       "    <tr>\n",
       "      <th>2</th>\n",
       "      <td>cm01</td>\n",
       "      <td>1972</td>\n",
       "      <td>11620000.0</td>\n",
       "      <td>1972-cm01</td>\n",
       "      <td>11620000.0</td>\n",
       "      <td>0.0</td>\n",
       "      <td>-1.871823e+04</td>\n",
       "      <td>0.0</td>\n",
       "    </tr>\n",
       "    <tr>\n",
       "      <th>3</th>\n",
       "      <td>cm01</td>\n",
       "      <td>1973</td>\n",
       "      <td>12745000.0</td>\n",
       "      <td>1973-cm01</td>\n",
       "      <td>12745000.0</td>\n",
       "      <td>0.0</td>\n",
       "      <td>-3.046605e+06</td>\n",
       "      <td>0.0</td>\n",
       "    </tr>\n",
       "    <tr>\n",
       "      <th>4</th>\n",
       "      <td>cm01</td>\n",
       "      <td>1974</td>\n",
       "      <td>13843000.0</td>\n",
       "      <td>1974-cm01</td>\n",
       "      <td>13843000.0</td>\n",
       "      <td>0.0</td>\n",
       "      <td>-2.035884e+06</td>\n",
       "      <td>0.0</td>\n",
       "    </tr>\n",
       "  </tbody>\n",
       "</table>\n",
       "</div>"
      ],
      "text/plain": [
       "  mineral_code  year      target        key  level_original  residual  \\\n",
       "0         cm01  1970   9645000.0  1970-cm01       9645000.0       0.0   \n",
       "1         cm01  1971  10266000.0  1971-cm01      10266000.0       0.0   \n",
       "2         cm01  1972  11620000.0  1972-cm01      11620000.0       0.0   \n",
       "3         cm01  1973  12745000.0  1973-cm01      12745000.0       0.0   \n",
       "4         cm01  1974  13843000.0  1974-cm01      13843000.0       0.0   \n",
       "\n",
       "       seasonal  trend  \n",
       "0 -6.169968e+05    0.0  \n",
       "1 -5.284295e+05    0.0  \n",
       "2 -1.871823e+04    0.0  \n",
       "3 -3.046605e+06    0.0  \n",
       "4 -2.035884e+06    0.0  "
      ]
     },
     "execution_count": 8,
     "metadata": {},
     "output_type": "execute_result"
    }
   ],
   "source": [
    "##--Adding components to main ft (fact table) \n",
    "#join key with ft_minerals\n",
    "ft_prod_tsdecomp['key'] = ft_prod_tsdecomp['date'].dt.year.astype(str) + '-' + ft_prod_tsdecomp['mineral_code']\n",
    "\n",
    "ft_minerals = ft_minerals.merge(ft_prod_tsdecomp[['key','level_original','residual','seasonal','trend']], how = 'left', on = 'key')\n",
    "ft_minerals.head()"
   ]
  },
  {
   "cell_type": "code",
   "execution_count": 9,
   "metadata": {},
   "outputs": [
    {
     "data": {
      "text/html": [
       "<div>\n",
       "<style scoped>\n",
       "    .dataframe tbody tr th:only-of-type {\n",
       "        vertical-align: middle;\n",
       "    }\n",
       "\n",
       "    .dataframe tbody tr th {\n",
       "        vertical-align: top;\n",
       "    }\n",
       "\n",
       "    .dataframe thead th {\n",
       "        text-align: right;\n",
       "    }\n",
       "</style>\n",
       "<table border=\"1\" class=\"dataframe\">\n",
       "  <thead>\n",
       "    <tr style=\"text-align: right;\">\n",
       "      <th></th>\n",
       "      <th>key</th>\n",
       "      <th>mineral_code</th>\n",
       "      <th>mineral_desc</th>\n",
       "      <th>date</th>\n",
       "      <th>level_original</th>\n",
       "      <th>trend</th>\n",
       "      <th>seasonal</th>\n",
       "      <th>residual</th>\n",
       "    </tr>\n",
       "  </thead>\n",
       "  <tbody>\n",
       "    <tr>\n",
       "      <th>0</th>\n",
       "      <td>1970-cm01</td>\n",
       "      <td>cm01</td>\n",
       "      <td>aluminium</td>\n",
       "      <td>1970-01-01</td>\n",
       "      <td>9.645000e+06</td>\n",
       "      <td>0.0</td>\n",
       "      <td>-616996.840567</td>\n",
       "      <td>0.0</td>\n",
       "    </tr>\n",
       "    <tr>\n",
       "      <th>1</th>\n",
       "      <td>1970-cm15</td>\n",
       "      <td>cm15</td>\n",
       "      <td>uranium</td>\n",
       "      <td>1970-01-01</td>\n",
       "      <td>1.806100e+04</td>\n",
       "      <td>0.0</td>\n",
       "      <td>-774.397859</td>\n",
       "      <td>0.0</td>\n",
       "    </tr>\n",
       "    <tr>\n",
       "      <th>2</th>\n",
       "      <td>1970-cm14</td>\n",
       "      <td>cm14</td>\n",
       "      <td>petroleum</td>\n",
       "      <td>1970-01-01</td>\n",
       "      <td>2.501471e+03</td>\n",
       "      <td>0.0</td>\n",
       "      <td>-27.480806</td>\n",
       "      <td>0.0</td>\n",
       "    </tr>\n",
       "    <tr>\n",
       "      <th>3</th>\n",
       "      <td>1970-cm13</td>\n",
       "      <td>cm13</td>\n",
       "      <td>natural gas</td>\n",
       "      <td>1970-01-01</td>\n",
       "      <td>1.064358e+03</td>\n",
       "      <td>0.0</td>\n",
       "      <td>10.074592</td>\n",
       "      <td>0.0</td>\n",
       "    </tr>\n",
       "    <tr>\n",
       "      <th>4</th>\n",
       "      <td>1970-cm12</td>\n",
       "      <td>cm12</td>\n",
       "      <td>molybdenum</td>\n",
       "      <td>1970-01-01</td>\n",
       "      <td>1.374170e+05</td>\n",
       "      <td>0.0</td>\n",
       "      <td>-13903.330150</td>\n",
       "      <td>0.0</td>\n",
       "    </tr>\n",
       "  </tbody>\n",
       "</table>\n",
       "</div>"
      ],
      "text/plain": [
       "         key mineral_code mineral_desc       date  level_original  trend  \\\n",
       "0  1970-cm01         cm01    aluminium 1970-01-01    9.645000e+06    0.0   \n",
       "1  1970-cm15         cm15      uranium 1970-01-01    1.806100e+04    0.0   \n",
       "2  1970-cm14         cm14    petroleum 1970-01-01    2.501471e+03    0.0   \n",
       "3  1970-cm13         cm13  natural gas 1970-01-01    1.064358e+03    0.0   \n",
       "4  1970-cm12         cm12   molybdenum 1970-01-01    1.374170e+05    0.0   \n",
       "\n",
       "        seasonal  residual  \n",
       "0 -616996.840567       0.0  \n",
       "1    -774.397859       0.0  \n",
       "2     -27.480806       0.0  \n",
       "3      10.074592       0.0  \n",
       "4  -13903.330150       0.0  "
      ]
     },
     "execution_count": 9,
     "metadata": {},
     "output_type": "execute_result"
    }
   ],
   "source": [
    "##--Categories (To be able to work only with this dataset)\n",
    "ft_prod_tsdecomp = ft_prod_tsdecomp.merge(dim_mineral, on = 'mineral_code', how = 'left')\n",
    "\n",
    "#Reordering\n",
    "ft_prod_tsdecomp = ft_prod_tsdecomp[['key','mineral_code','mineral_desc','date','level_original','trend','seasonal','residual']]\n",
    "ft_prod_tsdecomp.head()"
   ]
  },
  {
   "cell_type": "markdown",
   "metadata": {},
   "source": [
    "### 02.00. CLUSTERING\n",
    "#### 02.01. Dynamic Time Warping Similarity\n",
    "\n",
    "The dataset contains multiple dimensions due to its categories; The countries could be taken as the subject of analysis but on the other hand, we have also values for each mineral like another category. The procedure will consider each mineral for clustering the countries.\n",
    "\n",
    "Clustering is a classification problem and time series datasets are not compatible with clustering without reshaping. To tackle this the dataset will be reshaped getting each month ordered by columns and separating the procedure by component, so, we will clustering countries by mineral and also by component, this means that we will have x clusters by mineral on the trend component, y clusters by mineral on the seasonal component and z clusters by mineral on the residual component.\n",
    "\n",
    "In this case, the Dynamic Time Warping (DTW) will be used as measure of similarity among the component series aiming to capture similarities with consistent shapes.\n",
    "\n",
    "[Here is an nice explaination of the DTW Algorithm](https://www.youtube.com/watch?v=_K1OsqCicBY\n",
    ")\n"
   ]
  },
  {
   "cell_type": "code",
   "execution_count": 10,
   "metadata": {},
   "outputs": [
    {
     "name": "stdout",
     "output_type": "stream",
     "text": [
      "process finished, 1 DTW matrix created and 1 index lists createdegory in the dataframe\r"
     ]
    }
   ],
   "source": [
    "##--Pivoting Dataset and getting DTW Matrix \n",
    "#- Trend Component\n",
    "dtw_matrix_trend, dtw_index_trend = aux_time_series.dtw_matrix_funct(data = ft_prod_tsdecomp, index = 'mineral_code', columns = 'date', values = 'trend')\n",
    "\n",
    "#- Seasonal Component\n",
    "dtw_matrix_seaso, dtw_index_seaso = aux_time_series.dtw_matrix_funct(data = ft_prod_tsdecomp, index = 'mineral_code', columns = 'date', values = 'seasonal')\n",
    "\n",
    "#- Residual Component\n",
    "dtw_matrix_resid, dtw_index_resid = aux_time_series.dtw_matrix_funct(data = ft_prod_tsdecomp, index = 'mineral_code', columns = 'date', values = 'residual')"
   ]
  },
  {
   "cell_type": "markdown",
   "metadata": {},
   "source": [
    "#### 02.02. Kmeans\n",
    "\n",
    "To analyze and determine the optimal number of clusters three measures will be considered, the silohuette score, the calinski harabasz score and the davies bouldin score for each clustering algorithm"
   ]
  },
  {
   "cell_type": "code",
   "execution_count": 11,
   "metadata": {},
   "outputs": [],
   "source": [
    "#Parameters\n",
    "randomStateValue = 92\n",
    "early_stop_yield = 0.1 #% of total categories without changing results\n",
    "categories = ['mineral_code']\n"
   ]
  },
  {
   "cell_type": "code",
   "execution_count": 12,
   "metadata": {},
   "outputs": [
    {
     "name": "stdout",
     "output_type": "stream",
     "text": [
      "2.0 iters without change reached (0.1 yield), iters without change by measure -> sil: 2, cal: 0, dav: 2\n",
      "process finished \n",
      "\n"
     ]
    }
   ],
   "source": [
    "#- Trend Component\n",
    "result_t, clusters_tests_t = aux_time_series.clustering_kmeans_multi(x = dtw_matrix_trend, \n",
    "                                                                     y = dtw_index_trend,\n",
    "                                                                    categories = categories, \n",
    "                                                                    early_stop_yield = early_stop_yield, \n",
    "                                                                    randomStateValue = randomStateValue)"
   ]
  },
  {
   "cell_type": "code",
   "execution_count": 13,
   "metadata": {},
   "outputs": [
    {
     "name": "stdout",
     "output_type": "stream",
     "text": [
      "2.0 iters without change reached (0.1 yield), iters without change by measure -> sil: 2, cal: 0, dav: 2\n",
      "process finished \n",
      "\n"
     ]
    }
   ],
   "source": [
    "#- Seasonal Component\n",
    "result_s, clusters_tests_s = aux_time_series.clustering_kmeans_multi(x = dtw_matrix_seaso,\n",
    "                                                                     y = dtw_index_seaso,\n",
    "                                                                    categories = categories, \n",
    "                                                                    early_stop_yield = early_stop_yield, \n",
    "                                                                    randomStateValue = randomStateValue)"
   ]
  },
  {
   "cell_type": "code",
   "execution_count": 14,
   "metadata": {},
   "outputs": [
    {
     "name": "stdout",
     "output_type": "stream",
     "text": [
      "2.0 iters without change reached (0.1 yield), iters without change by measure -> sil: 2, cal: 0, dav: 2\n",
      "process finished \n",
      "\n"
     ]
    }
   ],
   "source": [
    "#- Residual Component\n",
    "result_r, clusters_tests_r = aux_time_series.clustering_kmeans_multi(x = dtw_matrix_resid,\n",
    "                                                                     y = dtw_index_resid,\n",
    "                                                                    categories = categories, \n",
    "                                                                    early_stop_yield = early_stop_yield, \n",
    "                                                                    randomStateValue = randomStateValue)"
   ]
  },
  {
   "cell_type": "code",
   "execution_count": 15,
   "metadata": {},
   "outputs": [
    {
     "data": {
      "text/html": [
       "<div>\n",
       "<style scoped>\n",
       "    .dataframe tbody tr th:only-of-type {\n",
       "        vertical-align: middle;\n",
       "    }\n",
       "\n",
       "    .dataframe tbody tr th {\n",
       "        vertical-align: top;\n",
       "    }\n",
       "\n",
       "    .dataframe thead th {\n",
       "        text-align: right;\n",
       "    }\n",
       "</style>\n",
       "<table border=\"1\" class=\"dataframe\">\n",
       "  <thead>\n",
       "    <tr style=\"text-align: right;\">\n",
       "      <th></th>\n",
       "      <th>index</th>\n",
       "      <th>cluster</th>\n",
       "      <th>category</th>\n",
       "      <th>by</th>\n",
       "    </tr>\n",
       "  </thead>\n",
       "  <tbody>\n",
       "    <tr>\n",
       "      <th>0</th>\n",
       "      <td>cm01</td>\n",
       "      <td>0</td>\n",
       "      <td>mineral_code</td>\n",
       "      <td>trend</td>\n",
       "    </tr>\n",
       "    <tr>\n",
       "      <th>1</th>\n",
       "      <td>cm02</td>\n",
       "      <td>1</td>\n",
       "      <td>mineral_code</td>\n",
       "      <td>trend</td>\n",
       "    </tr>\n",
       "    <tr>\n",
       "      <th>2</th>\n",
       "      <td>cm03</td>\n",
       "      <td>0</td>\n",
       "      <td>mineral_code</td>\n",
       "      <td>trend</td>\n",
       "    </tr>\n",
       "    <tr>\n",
       "      <th>3</th>\n",
       "      <td>cm04</td>\n",
       "      <td>0</td>\n",
       "      <td>mineral_code</td>\n",
       "      <td>trend</td>\n",
       "    </tr>\n",
       "    <tr>\n",
       "      <th>4</th>\n",
       "      <td>cm05</td>\n",
       "      <td>0</td>\n",
       "      <td>mineral_code</td>\n",
       "      <td>trend</td>\n",
       "    </tr>\n",
       "  </tbody>\n",
       "</table>\n",
       "</div>"
      ],
      "text/plain": [
       "  index  cluster      category     by\n",
       "0  cm01        0  mineral_code  trend\n",
       "1  cm02        1  mineral_code  trend\n",
       "2  cm03        0  mineral_code  trend\n",
       "3  cm04        0  mineral_code  trend\n",
       "4  cm05        0  mineral_code  trend"
      ]
     },
     "execution_count": 15,
     "metadata": {},
     "output_type": "execute_result"
    }
   ],
   "source": [
    "##-- Unpacking Data\n",
    "clustered_data = pd.DataFrame()\n",
    "selection_criteria = 'suggested_clusters'\n",
    "\n",
    "packing_data = [('trend',result_t),('seasonal',result_s),('residual',result_r)]\n",
    "\n",
    "for package in packing_data:\n",
    "    by = package[0]\n",
    "    data = package[1]    \n",
    "\n",
    "    for key in list(data.keys()):    \n",
    "        extracted_data = data[key].copy()\n",
    "        extracted_data = extracted_data[['index',selection_criteria]]\n",
    "        extracted_data.columns = ['index','cluster']\n",
    "\n",
    "        extracted_data['category'] = key        \n",
    "        extracted_data['by'] = by   \n",
    "        #extracted_data['key_join'] = extracted_data['category'] + '-' + extracted_data['index'] \n",
    "        clustered_data = pd.concat([clustered_data,extracted_data])    \n",
    "\n",
    "clustered_data.head()"
   ]
  },
  {
   "cell_type": "code",
   "execution_count": 16,
   "metadata": {},
   "outputs": [
    {
     "data": {
      "text/html": [
       "<div>\n",
       "<style scoped>\n",
       "    .dataframe tbody tr th:only-of-type {\n",
       "        vertical-align: middle;\n",
       "    }\n",
       "\n",
       "    .dataframe tbody tr th {\n",
       "        vertical-align: top;\n",
       "    }\n",
       "\n",
       "    .dataframe thead th {\n",
       "        text-align: right;\n",
       "    }\n",
       "</style>\n",
       "<table border=\"1\" class=\"dataframe\">\n",
       "  <thead>\n",
       "    <tr style=\"text-align: right;\">\n",
       "      <th></th>\n",
       "      <th>key</th>\n",
       "      <th>cluster_by_trend_dtw</th>\n",
       "      <th>cluster_by_seasonal_dtw</th>\n",
       "      <th>cluster_by_residual_dtw</th>\n",
       "    </tr>\n",
       "  </thead>\n",
       "  <tbody>\n",
       "    <tr>\n",
       "      <th>0</th>\n",
       "      <td>cm01</td>\n",
       "      <td>0</td>\n",
       "      <td>0</td>\n",
       "      <td>0</td>\n",
       "    </tr>\n",
       "    <tr>\n",
       "      <th>1</th>\n",
       "      <td>cm02</td>\n",
       "      <td>1</td>\n",
       "      <td>1</td>\n",
       "      <td>1</td>\n",
       "    </tr>\n",
       "    <tr>\n",
       "      <th>2</th>\n",
       "      <td>cm03</td>\n",
       "      <td>0</td>\n",
       "      <td>0</td>\n",
       "      <td>0</td>\n",
       "    </tr>\n",
       "    <tr>\n",
       "      <th>3</th>\n",
       "      <td>cm04</td>\n",
       "      <td>0</td>\n",
       "      <td>0</td>\n",
       "      <td>0</td>\n",
       "    </tr>\n",
       "    <tr>\n",
       "      <th>4</th>\n",
       "      <td>cm05</td>\n",
       "      <td>0</td>\n",
       "      <td>0</td>\n",
       "      <td>0</td>\n",
       "    </tr>\n",
       "  </tbody>\n",
       "</table>\n",
       "</div>"
      ],
      "text/plain": [
       "    key  cluster_by_trend_dtw  cluster_by_seasonal_dtw  \\\n",
       "0  cm01                     0                        0   \n",
       "1  cm02                     1                        1   \n",
       "2  cm03                     0                        0   \n",
       "3  cm04                     0                        0   \n",
       "4  cm05                     0                        0   \n",
       "\n",
       "   cluster_by_residual_dtw  \n",
       "0                        0  \n",
       "1                        1  \n",
       "2                        0  \n",
       "3                        0  \n",
       "4                        0  "
      ]
     },
     "execution_count": 16,
     "metadata": {},
     "output_type": "execute_result"
    }
   ],
   "source": [
    "##-- Pivoting Data and Creating Join Key\n",
    "clustered_data = clustered_data.pivot(index = ['index','category'], columns = 'by', values = 'cluster').reset_index()\n",
    "clustered_data.columns = clustered_data.columns.rename('')\n",
    "clustered_data.sort_values('index', ascending = True, inplace = True)\n",
    "\n",
    "clustered_data['key'] = clustered_data['index']\n",
    "clustered_data = clustered_data[['key','trend','seasonal','residual']]\n",
    "clustered_data.columns = ['key','cluster_by_trend_dtw','cluster_by_seasonal_dtw','cluster_by_residual_dtw']\n",
    "clustered_data.head()"
   ]
  },
  {
   "cell_type": "code",
   "execution_count": 17,
   "metadata": {},
   "outputs": [
    {
     "data": {
      "text/html": [
       "<div>\n",
       "<style scoped>\n",
       "    .dataframe tbody tr th:only-of-type {\n",
       "        vertical-align: middle;\n",
       "    }\n",
       "\n",
       "    .dataframe tbody tr th {\n",
       "        vertical-align: top;\n",
       "    }\n",
       "\n",
       "    .dataframe thead th {\n",
       "        text-align: right;\n",
       "    }\n",
       "</style>\n",
       "<table border=\"1\" class=\"dataframe\">\n",
       "  <thead>\n",
       "    <tr style=\"text-align: right;\">\n",
       "      <th></th>\n",
       "      <th>mineral_code</th>\n",
       "      <th>year</th>\n",
       "      <th>target</th>\n",
       "      <th>level_original</th>\n",
       "      <th>residual</th>\n",
       "      <th>seasonal</th>\n",
       "      <th>trend</th>\n",
       "      <th>cluster_by_trend_dtw</th>\n",
       "      <th>cluster_by_seasonal_dtw</th>\n",
       "      <th>cluster_by_residual_dtw</th>\n",
       "    </tr>\n",
       "  </thead>\n",
       "  <tbody>\n",
       "    <tr>\n",
       "      <th>0</th>\n",
       "      <td>cm01</td>\n",
       "      <td>1970</td>\n",
       "      <td>9645000.0</td>\n",
       "      <td>9645000.0</td>\n",
       "      <td>0.0</td>\n",
       "      <td>-6.169968e+05</td>\n",
       "      <td>0.0</td>\n",
       "      <td>0</td>\n",
       "      <td>0</td>\n",
       "      <td>0</td>\n",
       "    </tr>\n",
       "    <tr>\n",
       "      <th>1</th>\n",
       "      <td>cm01</td>\n",
       "      <td>1971</td>\n",
       "      <td>10266000.0</td>\n",
       "      <td>10266000.0</td>\n",
       "      <td>0.0</td>\n",
       "      <td>-5.284295e+05</td>\n",
       "      <td>0.0</td>\n",
       "      <td>0</td>\n",
       "      <td>0</td>\n",
       "      <td>0</td>\n",
       "    </tr>\n",
       "    <tr>\n",
       "      <th>2</th>\n",
       "      <td>cm01</td>\n",
       "      <td>1972</td>\n",
       "      <td>11620000.0</td>\n",
       "      <td>11620000.0</td>\n",
       "      <td>0.0</td>\n",
       "      <td>-1.871823e+04</td>\n",
       "      <td>0.0</td>\n",
       "      <td>0</td>\n",
       "      <td>0</td>\n",
       "      <td>0</td>\n",
       "    </tr>\n",
       "    <tr>\n",
       "      <th>3</th>\n",
       "      <td>cm01</td>\n",
       "      <td>1973</td>\n",
       "      <td>12745000.0</td>\n",
       "      <td>12745000.0</td>\n",
       "      <td>0.0</td>\n",
       "      <td>-3.046605e+06</td>\n",
       "      <td>0.0</td>\n",
       "      <td>0</td>\n",
       "      <td>0</td>\n",
       "      <td>0</td>\n",
       "    </tr>\n",
       "    <tr>\n",
       "      <th>4</th>\n",
       "      <td>cm01</td>\n",
       "      <td>1974</td>\n",
       "      <td>13843000.0</td>\n",
       "      <td>13843000.0</td>\n",
       "      <td>0.0</td>\n",
       "      <td>-2.035884e+06</td>\n",
       "      <td>0.0</td>\n",
       "      <td>0</td>\n",
       "      <td>0</td>\n",
       "      <td>0</td>\n",
       "    </tr>\n",
       "  </tbody>\n",
       "</table>\n",
       "</div>"
      ],
      "text/plain": [
       "  mineral_code  year      target  level_original  residual      seasonal  \\\n",
       "0         cm01  1970   9645000.0       9645000.0       0.0 -6.169968e+05   \n",
       "1         cm01  1971  10266000.0      10266000.0       0.0 -5.284295e+05   \n",
       "2         cm01  1972  11620000.0      11620000.0       0.0 -1.871823e+04   \n",
       "3         cm01  1973  12745000.0      12745000.0       0.0 -3.046605e+06   \n",
       "4         cm01  1974  13843000.0      13843000.0       0.0 -2.035884e+06   \n",
       "\n",
       "   trend  cluster_by_trend_dtw  cluster_by_seasonal_dtw  \\\n",
       "0    0.0                     0                        0   \n",
       "1    0.0                     0                        0   \n",
       "2    0.0                     0                        0   \n",
       "3    0.0                     0                        0   \n",
       "4    0.0                     0                        0   \n",
       "\n",
       "   cluster_by_residual_dtw  \n",
       "0                        0  \n",
       "1                        0  \n",
       "2                        0  \n",
       "3                        0  \n",
       "4                        0  "
      ]
     },
     "execution_count": 17,
     "metadata": {},
     "output_type": "execute_result"
    }
   ],
   "source": [
    "##--Adding components to main ft (fact table) \n",
    "#key in ft_minerals\n",
    "ft_minerals.drop(columns = 'key', inplace = True)\n",
    "ft_minerals['key'] = ft_minerals['mineral_code']\n",
    "\n",
    "#join\n",
    "ft_minerals = ft_minerals.merge(clustered_data, how = 'left', on = 'key')\n",
    "ft_minerals.drop(columns = 'key', inplace = True)\n",
    "ft_minerals.head()"
   ]
  },
  {
   "cell_type": "code",
   "execution_count": 18,
   "metadata": {},
   "outputs": [
    {
     "data": {
      "text/plain": [
       "True"
      ]
     },
     "execution_count": 18,
     "metadata": {},
     "output_type": "execute_result"
    }
   ],
   "source": [
    "struct_shape == ft_minerals.shape[0]"
   ]
  },
  {
   "cell_type": "markdown",
   "metadata": {},
   "source": [
    "### 03.00. Outliers Detection\n",
    "\n",
    "Considering that we have the residual component, we can use it to determine outliers in the time series, in this case we are going to apply the Hampel Filter wihout imputations.\n",
    "\n",
    "The outliers detection will be made for each country series."
   ]
  },
  {
   "cell_type": "code",
   "execution_count": 19,
   "metadata": {},
   "outputs": [],
   "source": [
    "data = ft_minerals.copy()\n",
    "index = 'year'\n",
    "target = 'residual'\n",
    "category = 'mineral_code'"
   ]
  },
  {
   "cell_type": "code",
   "execution_count": 20,
   "metadata": {},
   "outputs": [
    {
     "data": {
      "text/plain": [
       "True"
      ]
     },
     "execution_count": 20,
     "metadata": {},
     "output_type": "execute_result"
    }
   ],
   "source": [
    "iterators = data[category].unique()\n",
    "\n",
    "outliers = pd.DataFrame()\n",
    "for iter in iterators:\n",
    "    X = data[data[category] == iter][[index,target]].reset_index(drop = True).sort_values(index, ascending = True).copy()\n",
    "\n",
    "    results = aux_time_series.hampel_filter(data = X, \n",
    "                                            index = 'year',\n",
    "                                            target = 'residual',\n",
    "                                            windows_size = 10, \n",
    "                                            n_sigmas = 3)\n",
    "\n",
    "    results['key'] = results[index].astype(str) + '-' + iter\n",
    "\n",
    "    outliers = pd.concat([outliers,results])\n",
    "\n",
    "outliers.shape[0] == ft_minerals.shape[0]"
   ]
  },
  {
   "cell_type": "code",
   "execution_count": 21,
   "metadata": {},
   "outputs": [
    {
     "data": {
      "text/html": [
       "<div>\n",
       "<style scoped>\n",
       "    .dataframe tbody tr th:only-of-type {\n",
       "        vertical-align: middle;\n",
       "    }\n",
       "\n",
       "    .dataframe tbody tr th {\n",
       "        vertical-align: top;\n",
       "    }\n",
       "\n",
       "    .dataframe thead th {\n",
       "        text-align: right;\n",
       "    }\n",
       "</style>\n",
       "<table border=\"1\" class=\"dataframe\">\n",
       "  <thead>\n",
       "    <tr style=\"text-align: right;\">\n",
       "      <th></th>\n",
       "      <th>mineral_code</th>\n",
       "      <th>year</th>\n",
       "      <th>target</th>\n",
       "      <th>level_original</th>\n",
       "      <th>residual</th>\n",
       "      <th>seasonal</th>\n",
       "      <th>trend</th>\n",
       "      <th>cluster_by_trend_dtw</th>\n",
       "      <th>cluster_by_seasonal_dtw</th>\n",
       "      <th>cluster_by_residual_dtw</th>\n",
       "      <th>key</th>\n",
       "      <th>outlier</th>\n",
       "      <th>imputed_residual_values</th>\n",
       "    </tr>\n",
       "  </thead>\n",
       "  <tbody>\n",
       "    <tr>\n",
       "      <th>0</th>\n",
       "      <td>cm01</td>\n",
       "      <td>1970</td>\n",
       "      <td>9645000.0</td>\n",
       "      <td>9645000.0</td>\n",
       "      <td>0.0</td>\n",
       "      <td>-6.169968e+05</td>\n",
       "      <td>0.0</td>\n",
       "      <td>0</td>\n",
       "      <td>0</td>\n",
       "      <td>0</td>\n",
       "      <td>1970-cm01</td>\n",
       "      <td>False</td>\n",
       "      <td>0.0</td>\n",
       "    </tr>\n",
       "    <tr>\n",
       "      <th>1</th>\n",
       "      <td>cm01</td>\n",
       "      <td>1971</td>\n",
       "      <td>10266000.0</td>\n",
       "      <td>10266000.0</td>\n",
       "      <td>0.0</td>\n",
       "      <td>-5.284295e+05</td>\n",
       "      <td>0.0</td>\n",
       "      <td>0</td>\n",
       "      <td>0</td>\n",
       "      <td>0</td>\n",
       "      <td>1971-cm01</td>\n",
       "      <td>False</td>\n",
       "      <td>0.0</td>\n",
       "    </tr>\n",
       "    <tr>\n",
       "      <th>2</th>\n",
       "      <td>cm01</td>\n",
       "      <td>1972</td>\n",
       "      <td>11620000.0</td>\n",
       "      <td>11620000.0</td>\n",
       "      <td>0.0</td>\n",
       "      <td>-1.871823e+04</td>\n",
       "      <td>0.0</td>\n",
       "      <td>0</td>\n",
       "      <td>0</td>\n",
       "      <td>0</td>\n",
       "      <td>1972-cm01</td>\n",
       "      <td>False</td>\n",
       "      <td>0.0</td>\n",
       "    </tr>\n",
       "    <tr>\n",
       "      <th>3</th>\n",
       "      <td>cm01</td>\n",
       "      <td>1973</td>\n",
       "      <td>12745000.0</td>\n",
       "      <td>12745000.0</td>\n",
       "      <td>0.0</td>\n",
       "      <td>-3.046605e+06</td>\n",
       "      <td>0.0</td>\n",
       "      <td>0</td>\n",
       "      <td>0</td>\n",
       "      <td>0</td>\n",
       "      <td>1973-cm01</td>\n",
       "      <td>False</td>\n",
       "      <td>0.0</td>\n",
       "    </tr>\n",
       "    <tr>\n",
       "      <th>4</th>\n",
       "      <td>cm01</td>\n",
       "      <td>1974</td>\n",
       "      <td>13843000.0</td>\n",
       "      <td>13843000.0</td>\n",
       "      <td>0.0</td>\n",
       "      <td>-2.035884e+06</td>\n",
       "      <td>0.0</td>\n",
       "      <td>0</td>\n",
       "      <td>0</td>\n",
       "      <td>0</td>\n",
       "      <td>1974-cm01</td>\n",
       "      <td>False</td>\n",
       "      <td>0.0</td>\n",
       "    </tr>\n",
       "  </tbody>\n",
       "</table>\n",
       "</div>"
      ],
      "text/plain": [
       "  mineral_code  year      target  level_original  residual      seasonal  \\\n",
       "0         cm01  1970   9645000.0       9645000.0       0.0 -6.169968e+05   \n",
       "1         cm01  1971  10266000.0      10266000.0       0.0 -5.284295e+05   \n",
       "2         cm01  1972  11620000.0      11620000.0       0.0 -1.871823e+04   \n",
       "3         cm01  1973  12745000.0      12745000.0       0.0 -3.046605e+06   \n",
       "4         cm01  1974  13843000.0      13843000.0       0.0 -2.035884e+06   \n",
       "\n",
       "   trend  cluster_by_trend_dtw  cluster_by_seasonal_dtw  \\\n",
       "0    0.0                     0                        0   \n",
       "1    0.0                     0                        0   \n",
       "2    0.0                     0                        0   \n",
       "3    0.0                     0                        0   \n",
       "4    0.0                     0                        0   \n",
       "\n",
       "   cluster_by_residual_dtw        key  outlier  imputed_residual_values  \n",
       "0                        0  1970-cm01    False                      0.0  \n",
       "1                        0  1971-cm01    False                      0.0  \n",
       "2                        0  1972-cm01    False                      0.0  \n",
       "3                        0  1973-cm01    False                      0.0  \n",
       "4                        0  1974-cm01    False                      0.0  "
      ]
     },
     "execution_count": 21,
     "metadata": {},
     "output_type": "execute_result"
    }
   ],
   "source": [
    "##--Adding outliers to main ft (fact table) \n",
    "#key in ft_minerals\n",
    "ft_minerals['key'] = ft_minerals[index].astype(str) + '-' + ft_minerals[category]\n",
    "\n",
    "#join\n",
    "ft_minerals = ft_minerals.merge(outliers[['key','outlier',f'imputed_{target}_values']], how = 'left', on = 'key')\n",
    "ft_minerals.head()"
   ]
  },
  {
   "cell_type": "code",
   "execution_count": 22,
   "metadata": {},
   "outputs": [
    {
     "data": {
      "text/plain": [
       "True"
      ]
     },
     "execution_count": 22,
     "metadata": {},
     "output_type": "execute_result"
    }
   ],
   "source": [
    "struct_shape == ft_minerals.shape[0]"
   ]
  },
  {
   "cell_type": "markdown",
   "metadata": {},
   "source": [
    "### 04.00. Exporting Data"
   ]
  },
  {
   "cell_type": "code",
   "execution_count": 23,
   "metadata": {},
   "outputs": [],
   "source": [
    "##--Python EDA\n",
    "ft_minerals.to_csv(wd_out + '/ft_minerals_tsc.csv.gz', sep = csvAttr_exp['sep'], index = False, encoding = csvAttr_exp['encoding'])"
   ]
  },
  {
   "cell_type": "code",
   "execution_count": 24,
   "metadata": {},
   "outputs": [],
   "source": [
    "##--BI Tools\n",
    "#- ft_minerals\n",
    "cols_to_drop = ['cluster_by_trend_dtw', 'cluster_by_seasonal_dtw', 'cluster_by_residual_dtw']\n",
    "        \n",
    "ft_minerals.drop(columns = cols_to_drop).to_csv(wd_out + '/BI/ft_minerals.csv.gz', sep = csvAttr_exp['sep'], index = False, encoding = csvAttr_exp['encoding'])\n",
    "\n",
    "#- Clusters\n",
    "ft_cluster = ft_minerals[['mineral_code','cluster_by_trend_dtw', 'cluster_by_seasonal_dtw',\n",
    "                           'cluster_by_residual_dtw']].copy().drop_duplicates().reset_index(drop = True)\n",
    "\n",
    "ft_cluster.to_csv(wd_out + '/BI/ft_cluster_minerals.csv.gz', sep = csvAttr_exp['sep'], index = False, encoding = csvAttr_exp['encoding'])"
   ]
  }
 ],
 "metadata": {
  "kernelspec": {
   "display_name": "2023.Minerals-EDA-B4PsKx1h",
   "language": "python",
   "name": "python3"
  },
  "language_info": {
   "codemirror_mode": {
    "name": "ipython",
    "version": 3
   },
   "file_extension": ".py",
   "mimetype": "text/x-python",
   "name": "python",
   "nbconvert_exporter": "python",
   "pygments_lexer": "ipython3",
   "version": "3.11.4"
  },
  "orig_nbformat": 4
 },
 "nbformat": 4,
 "nbformat_minor": 2
}
